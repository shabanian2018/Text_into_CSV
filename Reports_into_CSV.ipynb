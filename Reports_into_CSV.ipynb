{
 "cells": [
  {
   "cell_type": "raw",
   "id": "9c3a9024-fbc7-41a3-be27-d01401598c6a",
   "metadata": {},
   "source": [
    "Reading Medical Image reports into CSV file"
   ]
  },
  {
   "cell_type": "code",
   "execution_count": null,
   "id": "d8dc7949-2d14-4e7f-ac79-d51d1054b10f",
   "metadata": {},
   "outputs": [],
   "source": [
    "import re"
   ]
  },
  {
   "cell_type": "code",
   "execution_count": null,
   "id": "c6026e7e-86aa-40f6-b060-d22803732c17",
   "metadata": {},
   "outputs": [],
   "source": [
    "### https://pynative.com/python/regex/\n",
    "### https://regex101.com/\n",
    "\n",
    "speaker_pattern = re.compile(r'^(.*):(.*)$')\n",
    "df =pd.DataFrame(columns=None)\n",
    "with open(\"Reports.txt\", \"r\") as f:\n",
    "        file_text = f.read()\n",
    "        reports=file_text.split('[ END OF REPORT ]')\n",
    "        for report in reports:\n",
    "          speaker_words = {'Accession Number':'','Patient MRN':'','Patient Name':'','SUPPORT DEVICE(S)':'','CHEST':'','BONES':'','IMPRESSION':''}\n",
    "          current_speaker = None\n",
    "          report=report.split('\\n') \n",
    "\n",
    "          for line in report:\n",
    "                ## remore space from first line\n",
    "                  line = line.strip()\n",
    "                ##  match regex pattern at start of the string\n",
    "                  match = speaker_pattern.match(line)\n",
    "                  if match is not None:\n",
    "                          current_speaker = match.group(1)\n",
    "                          line = match.group(2).strip()\n",
    "#                           if current_speaker not in speaker_words.keys():\n",
    "#                                   speaker_words[current_speaker] = ''\n",
    "                  if current_speaker and current_speaker in speaker_words.keys():\n",
    "                          speaker_words[current_speaker]=speaker_words[current_speaker]+line\n",
    "          df=df.append(speaker_words,ignore_index=True)"
   ]
  },
  {
   "cell_type": "code",
   "execution_count": null,
   "id": "9ca6c525-6132-4446-a856-45de86f4a4f6",
   "metadata": {},
   "outputs": [],
   "source": [
    "df"
   ]
  },
  {
   "cell_type": "code",
   "execution_count": null,
   "id": "03ec2fbb-b053-437a-a1ab-fd2add643393",
   "metadata": {},
   "outputs": [],
   "source": [
    "df.to_csv(\"Reports.csv\")"
   ]
  }
 ],
 "metadata": {
  "kernelspec": {
   "display_name": "Python 3",
   "language": "python",
   "name": "python3"
  },
  "language_info": {
   "codemirror_mode": {
    "name": "ipython",
    "version": 3
   },
   "file_extension": ".py",
   "mimetype": "text/x-python",
   "name": "python",
   "nbconvert_exporter": "python",
   "pygments_lexer": "ipython3",
   "version": "3.8.10"
  }
 },
 "nbformat": 4,
 "nbformat_minor": 5
}
